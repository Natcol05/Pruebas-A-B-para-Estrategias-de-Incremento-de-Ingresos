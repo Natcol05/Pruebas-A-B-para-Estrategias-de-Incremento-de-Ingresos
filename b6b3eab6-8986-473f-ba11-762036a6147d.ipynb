{
 "cells": [
  {
   "cell_type": "markdown",
   "metadata": {},
   "source": [
    "# Hola Natalia!\n",
    "\n",
    "Mi nombre es David Bautista, soy code reviewer de TripleTen y voy a revisar el proyecto que acabas de desarrollar.\n",
    "\n",
    "Cuando vea un error la primera vez, lo señalaré. Deberás encontrarlo y arreglarlo. La intención es que te prepares para un espacio real de trabajo. En un trabajo, el líder de tu equipo hará lo mismo. Si no puedes solucionar el error, te daré más información en la próxima ocasión.\n",
    "\n",
    "Encontrarás mis comentarios más abajo - **por favor, no los muevas, no los modifiques ni los borres.**\n",
    "\n",
    "¿Cómo lo voy a hacer? Voy a leer detenidamente cada una de las implementaciones que has llevado a cabo para cumplir con lo solicitado. Verás los comentarios de esta forma:\n",
    "\n",
    "\n",
    "<div class=\"alert alert-block alert-success\">\n",
    "<b>Comentario del revisor</b> <a class=\"tocSkip\"></a>\n",
    "    \n",
    "Si todo está perfecto.\n",
    "</div>\n",
    "\n",
    "\n",
    "<div class=\"alert alert-block alert-warning\">\n",
    "<b>Comentario del revisor</b> <a class=\"tocSkip\"></a>\n",
    "    \n",
    "Si tu código está bien pero se puede mejorar o hay algún detalle que le hace falta.\n",
    "</div>\n",
    "\n",
    "\n",
    "<div class=\"alert alert-block alert-danger\">\n",
    "    \n",
    "<b>Comentario del revisor</b> <a class=\"tocSkip\"></a>\n",
    "    \n",
    "    \n",
    "Si de pronto hace falta algo o existe algún problema con tu código o conclusiones.\n",
    "</div>\n",
    "\n",
    "\n",
    "Puedes responderme de esta forma: \n",
    "\n",
    "<div class=\"alert alert-block alert-info\">\n",
    "<b>Respuesta del estudiante</b> <a class=\"tocSkip\"></a>\n",
    "</div\n",
    "\n",
    "¡Empecemos!"
   ]
  },
  {
   "cell_type": "markdown",
   "metadata": {},
   "source": [
    "<div class=\"alert alert-block alert-danger\">\n",
    "<b>Comentario del revisor</b> <a class=\"tocSkip\"></a>\n",
    "    \n",
    "# Comentario General\n",
    "    \n",
    "~~Hola, Natalia, te felicito por el desarrollo del proyecto hasta el momento. Ahora bien, he dejado diferentes comentarios para que puedas tenerlos en cuenta para la siguiente entrega. Fíjate que deje un comentario con el subtítulo **Comentario Importante** el cual es importante que tengas en cuenta para que continuemos con la revisión del proyecto.~~\n",
    "</div>\n",
    "\n",
    "\n",
    "<div class=\"alert alert-block alert-success\">\n",
    "<b>Comentario del revisor</b> <a class=\"tocSkip\"></a>\n",
    "    \n",
    "# Comentario General #2\n",
    "    \n",
    "Hola, Natalia, te felicito por la culminación del proyecto. Muy buen trabajo.\n",
    "</div>"
   ]
  },
  {
   "cell_type": "markdown",
   "metadata": {},
   "source": [
    "# <center>Implementación de Pruebas A/B para el Análisis de Estrategias de Incremento de Ingresos</center>\n"
   ]
  },
  {
   "cell_type": "markdown",
   "metadata": {},
   "source": [
    "### Introducción\n",
    "\n",
    "El siguiente proyecto tiene como objetivo analizar estrategias para aumentar la atracción, conversión e ingresos de usuarios de una tienda online. Para ello se evaluan un conjunto de hipótesis a la luz de los indicadores RICE y ICE con la pretensión de determinar las estrategias más viables. \n",
    "Posteriormente se aplica una prueba A/B en la que se busca estudiar la conversión  "
   ]
  },
  {
   "cell_type": "markdown",
   "metadata": {},
   "source": [
    "<div class=\"alert alert-block alert-success\">\n",
    "<b>Comentario del revisor</b> <a class=\"tocSkip\"></a>\n",
    "    \n",
    "Perfecto, buen trabajo con la sección de introducción y descripción del proyecto. Por otro lado, buen detalle el de centrar el título, me gusta mucho como queda visualmente. \n",
    "</div>"
   ]
  },
  {
   "cell_type": "markdown",
   "metadata": {},
   "source": [
    "### Importación de librerías y carga de datasets"
   ]
  },
  {
   "cell_type": "code",
   "execution_count": 47,
   "metadata": {},
   "outputs": [],
   "source": [
    "#Se importan las librerías\n",
    "import pandas as pd\n",
    "import scipy.stats as stats\n",
    "from scipy.stats import ttest_ind\n",
    "from scipy.stats import levene\n",
    "import datetime as dt\n",
    "import numpy as np\n",
    "from matplotlib import pyplot as plt\n",
    "import seaborn as sb"
   ]
  },
  {
   "cell_type": "markdown",
   "metadata": {},
   "source": [
    "<div class=\"alert alert-block alert-success\">\n",
    "<b>Comentario del revisor</b> <a class=\"tocSkip\"></a>\n",
    "    \n",
    "Buen trabajo importando las librerías necesarias para el desarrollo del proyecto.\n",
    "</div>"
   ]
  },
  {
   "cell_type": "code",
   "execution_count": 48,
   "metadata": {},
   "outputs": [],
   "source": [
    "# Se cargan los datasets \n",
    "\n",
    "hypotheses = pd.read_csv('/datasets/hypotheses_us.csv', sep = ';')\n",
    "orders= pd.read_csv('/datasets/orders_us.csv')\n",
    "visits = pd.read_csv('/datasets/visits_us.csv')"
   ]
  },
  {
   "cell_type": "markdown",
   "metadata": {},
   "source": [
    "<div class=\"alert alert-block alert-success\">\n",
    "<b>Comentario del revisor</b> <a class=\"tocSkip\"></a>\n",
    "    \n",
    "Excelente, buen trabajo con la carga de los datasets. </div>"
   ]
  },
  {
   "cell_type": "code",
   "execution_count": 49,
   "metadata": {},
   "outputs": [],
   "source": [
    "#Se covnierten las fechas a tipo datetime\n",
    "orders['date'] = pd.to_datetime(orders['date'], format='%Y-%m-%d')\n",
    "visits['date'] = pd.to_datetime(visits['date'], format='%Y-%m-%d')"
   ]
  },
  {
   "cell_type": "code",
   "execution_count": 50,
   "metadata": {},
   "outputs": [
    {
     "data": {
      "text/html": [
       "<div>\n",
       "<style scoped>\n",
       "    .dataframe tbody tr th:only-of-type {\n",
       "        vertical-align: middle;\n",
       "    }\n",
       "\n",
       "    .dataframe tbody tr th {\n",
       "        vertical-align: top;\n",
       "    }\n",
       "\n",
       "    .dataframe thead th {\n",
       "        text-align: right;\n",
       "    }\n",
       "</style>\n",
       "<table border=\"1\" class=\"dataframe\">\n",
       "  <thead>\n",
       "    <tr style=\"text-align: right;\">\n",
       "      <th></th>\n",
       "      <th>Hypothesis</th>\n",
       "      <th>Reach</th>\n",
       "      <th>Impact</th>\n",
       "      <th>Confidence</th>\n",
       "      <th>Effort</th>\n",
       "    </tr>\n",
       "  </thead>\n",
       "  <tbody>\n",
       "    <tr>\n",
       "      <th>0</th>\n",
       "      <td>Add two new channels for attracting traffic. This will bring 30% more users</td>\n",
       "      <td>3</td>\n",
       "      <td>10</td>\n",
       "      <td>8</td>\n",
       "      <td>6</td>\n",
       "    </tr>\n",
       "    <tr>\n",
       "      <th>1</th>\n",
       "      <td>Launch your own delivery service. This will shorten delivery time</td>\n",
       "      <td>2</td>\n",
       "      <td>5</td>\n",
       "      <td>4</td>\n",
       "      <td>10</td>\n",
       "    </tr>\n",
       "    <tr>\n",
       "      <th>2</th>\n",
       "      <td>Add product recommendation blocks to the store's site. This will increase conversion and average purchase size</td>\n",
       "      <td>8</td>\n",
       "      <td>3</td>\n",
       "      <td>7</td>\n",
       "      <td>3</td>\n",
       "    </tr>\n",
       "    <tr>\n",
       "      <th>3</th>\n",
       "      <td>Change the category structure. This will increase conversion since users will find the products they want more quickly</td>\n",
       "      <td>8</td>\n",
       "      <td>3</td>\n",
       "      <td>3</td>\n",
       "      <td>8</td>\n",
       "    </tr>\n",
       "    <tr>\n",
       "      <th>4</th>\n",
       "      <td>Change the background color on the main page. This will increase user engagement</td>\n",
       "      <td>3</td>\n",
       "      <td>1</td>\n",
       "      <td>1</td>\n",
       "      <td>1</td>\n",
       "    </tr>\n",
       "    <tr>\n",
       "      <th>5</th>\n",
       "      <td>Add a customer review page. This will increase the number of orders</td>\n",
       "      <td>3</td>\n",
       "      <td>2</td>\n",
       "      <td>2</td>\n",
       "      <td>3</td>\n",
       "    </tr>\n",
       "    <tr>\n",
       "      <th>6</th>\n",
       "      <td>Show banners with current offers and sales on the main page. This will boost conversion</td>\n",
       "      <td>5</td>\n",
       "      <td>3</td>\n",
       "      <td>8</td>\n",
       "      <td>3</td>\n",
       "    </tr>\n",
       "    <tr>\n",
       "      <th>7</th>\n",
       "      <td>Add a subscription form to all the main pages. This will help you compile a mailing list</td>\n",
       "      <td>10</td>\n",
       "      <td>7</td>\n",
       "      <td>8</td>\n",
       "      <td>5</td>\n",
       "    </tr>\n",
       "    <tr>\n",
       "      <th>8</th>\n",
       "      <td>Launch a promotion that gives users discounts on their birthdays</td>\n",
       "      <td>1</td>\n",
       "      <td>9</td>\n",
       "      <td>9</td>\n",
       "      <td>5</td>\n",
       "    </tr>\n",
       "  </tbody>\n",
       "</table>\n",
       "</div>"
      ],
      "text/plain": [
       "                                                                                                               Hypothesis  \\\n",
       "0                                             Add two new channels for attracting traffic. This will bring 30% more users   \n",
       "1                                                       Launch your own delivery service. This will shorten delivery time   \n",
       "2          Add product recommendation blocks to the store's site. This will increase conversion and average purchase size   \n",
       "3  Change the category structure. This will increase conversion since users will find the products they want more quickly   \n",
       "4                                        Change the background color on the main page. This will increase user engagement   \n",
       "5                                                     Add a customer review page. This will increase the number of orders   \n",
       "6                                 Show banners with current offers and sales on the main page. This will boost conversion   \n",
       "7                                Add a subscription form to all the main pages. This will help you compile a mailing list   \n",
       "8                                                        Launch a promotion that gives users discounts on their birthdays   \n",
       "\n",
       "   Reach  Impact  Confidence  Effort  \n",
       "0      3      10           8       6  \n",
       "1      2       5           4      10  \n",
       "2      8       3           7       3  \n",
       "3      8       3           3       8  \n",
       "4      3       1           1       1  \n",
       "5      3       2           2       3  \n",
       "6      5       3           8       3  \n",
       "7     10       7           8       5  \n",
       "8      1       9           9       5  "
      ]
     },
     "metadata": {},
     "output_type": "display_data"
    }
   ],
   "source": [
    "pd.set_option('display.max_colwidth', None)\n",
    "display(hypotheses)"
   ]
  },
  {
   "cell_type": "markdown",
   "metadata": {},
   "source": [
    "### Priorizar Hipótesis"
   ]
  },
  {
   "cell_type": "code",
   "execution_count": 51,
   "metadata": {},
   "outputs": [
    {
     "data": {
      "text/html": [
       "<div>\n",
       "<style scoped>\n",
       "    .dataframe tbody tr th:only-of-type {\n",
       "        vertical-align: middle;\n",
       "    }\n",
       "\n",
       "    .dataframe tbody tr th {\n",
       "        vertical-align: top;\n",
       "    }\n",
       "\n",
       "    .dataframe thead th {\n",
       "        text-align: right;\n",
       "    }\n",
       "</style>\n",
       "<table border=\"1\" class=\"dataframe\">\n",
       "  <thead>\n",
       "    <tr style=\"text-align: right;\">\n",
       "      <th></th>\n",
       "      <th>Hypothesis</th>\n",
       "      <th>Reach</th>\n",
       "      <th>Impact</th>\n",
       "      <th>Confidence</th>\n",
       "      <th>Effort</th>\n",
       "      <th>ICE</th>\n",
       "      <th>RICE</th>\n",
       "    </tr>\n",
       "  </thead>\n",
       "  <tbody>\n",
       "    <tr>\n",
       "      <th>0</th>\n",
       "      <td>Add two new channels for attracting traffic. This will bring 30% more users</td>\n",
       "      <td>3</td>\n",
       "      <td>10</td>\n",
       "      <td>8</td>\n",
       "      <td>6</td>\n",
       "      <td>13.333333</td>\n",
       "      <td>40.0</td>\n",
       "    </tr>\n",
       "    <tr>\n",
       "      <th>1</th>\n",
       "      <td>Launch your own delivery service. This will shorten delivery time</td>\n",
       "      <td>2</td>\n",
       "      <td>5</td>\n",
       "      <td>4</td>\n",
       "      <td>10</td>\n",
       "      <td>2.000000</td>\n",
       "      <td>4.0</td>\n",
       "    </tr>\n",
       "    <tr>\n",
       "      <th>2</th>\n",
       "      <td>Add product recommendation blocks to the store's site. This will increase conversion and average purchase size</td>\n",
       "      <td>8</td>\n",
       "      <td>3</td>\n",
       "      <td>7</td>\n",
       "      <td>3</td>\n",
       "      <td>7.000000</td>\n",
       "      <td>56.0</td>\n",
       "    </tr>\n",
       "    <tr>\n",
       "      <th>3</th>\n",
       "      <td>Change the category structure. This will increase conversion since users will find the products they want more quickly</td>\n",
       "      <td>8</td>\n",
       "      <td>3</td>\n",
       "      <td>3</td>\n",
       "      <td>8</td>\n",
       "      <td>1.125000</td>\n",
       "      <td>9.0</td>\n",
       "    </tr>\n",
       "    <tr>\n",
       "      <th>4</th>\n",
       "      <td>Change the background color on the main page. This will increase user engagement</td>\n",
       "      <td>3</td>\n",
       "      <td>1</td>\n",
       "      <td>1</td>\n",
       "      <td>1</td>\n",
       "      <td>1.000000</td>\n",
       "      <td>3.0</td>\n",
       "    </tr>\n",
       "    <tr>\n",
       "      <th>5</th>\n",
       "      <td>Add a customer review page. This will increase the number of orders</td>\n",
       "      <td>3</td>\n",
       "      <td>2</td>\n",
       "      <td>2</td>\n",
       "      <td>3</td>\n",
       "      <td>1.333333</td>\n",
       "      <td>4.0</td>\n",
       "    </tr>\n",
       "    <tr>\n",
       "      <th>6</th>\n",
       "      <td>Show banners with current offers and sales on the main page. This will boost conversion</td>\n",
       "      <td>5</td>\n",
       "      <td>3</td>\n",
       "      <td>8</td>\n",
       "      <td>3</td>\n",
       "      <td>8.000000</td>\n",
       "      <td>40.0</td>\n",
       "    </tr>\n",
       "    <tr>\n",
       "      <th>7</th>\n",
       "      <td>Add a subscription form to all the main pages. This will help you compile a mailing list</td>\n",
       "      <td>10</td>\n",
       "      <td>7</td>\n",
       "      <td>8</td>\n",
       "      <td>5</td>\n",
       "      <td>11.200000</td>\n",
       "      <td>112.0</td>\n",
       "    </tr>\n",
       "    <tr>\n",
       "      <th>8</th>\n",
       "      <td>Launch a promotion that gives users discounts on their birthdays</td>\n",
       "      <td>1</td>\n",
       "      <td>9</td>\n",
       "      <td>9</td>\n",
       "      <td>5</td>\n",
       "      <td>16.200000</td>\n",
       "      <td>16.2</td>\n",
       "    </tr>\n",
       "  </tbody>\n",
       "</table>\n",
       "</div>"
      ],
      "text/plain": [
       "                                                                                                               Hypothesis  \\\n",
       "0                                             Add two new channels for attracting traffic. This will bring 30% more users   \n",
       "1                                                       Launch your own delivery service. This will shorten delivery time   \n",
       "2          Add product recommendation blocks to the store's site. This will increase conversion and average purchase size   \n",
       "3  Change the category structure. This will increase conversion since users will find the products they want more quickly   \n",
       "4                                        Change the background color on the main page. This will increase user engagement   \n",
       "5                                                     Add a customer review page. This will increase the number of orders   \n",
       "6                                 Show banners with current offers and sales on the main page. This will boost conversion   \n",
       "7                                Add a subscription form to all the main pages. This will help you compile a mailing list   \n",
       "8                                                        Launch a promotion that gives users discounts on their birthdays   \n",
       "\n",
       "   Reach  Impact  Confidence  Effort        ICE   RICE  \n",
       "0      3      10           8       6  13.333333   40.0  \n",
       "1      2       5           4      10   2.000000    4.0  \n",
       "2      8       3           7       3   7.000000   56.0  \n",
       "3      8       3           3       8   1.125000    9.0  \n",
       "4      3       1           1       1   1.000000    3.0  \n",
       "5      3       2           2       3   1.333333    4.0  \n",
       "6      5       3           8       3   8.000000   40.0  \n",
       "7     10       7           8       5  11.200000  112.0  \n",
       "8      1       9           9       5  16.200000   16.2  "
      ]
     },
     "execution_count": 51,
     "metadata": {},
     "output_type": "execute_result"
    }
   ],
   "source": [
    "hypotheses['ICE'] =(hypotheses['Impact'] * hypotheses['Confidence']) / hypotheses['Effort']\n",
    "hypotheses['RICE'] =(hypotheses['Reach'] * hypotheses['Impact'] * hypotheses['Confidence']) / hypotheses['Effort']\n",
    "hypotheses"
   ]
  },
  {
   "cell_type": "code",
   "execution_count": 52,
   "metadata": {},
   "outputs": [
    {
     "name": "stdout",
     "output_type": "stream",
     "text": [
      "                                                                                                               Hypothesis  \\\n",
      "7                                Add a subscription form to all the main pages. This will help you compile a mailing list   \n",
      "2          Add product recommendation blocks to the store's site. This will increase conversion and average purchase size   \n",
      "0                                             Add two new channels for attracting traffic. This will bring 30% more users   \n",
      "6                                 Show banners with current offers and sales on the main page. This will boost conversion   \n",
      "8                                                        Launch a promotion that gives users discounts on their birthdays   \n",
      "3  Change the category structure. This will increase conversion since users will find the products they want more quickly   \n",
      "1                                                       Launch your own delivery service. This will shorten delivery time   \n",
      "5                                                     Add a customer review page. This will increase the number of orders   \n",
      "4                                        Change the background color on the main page. This will increase user engagement   \n",
      "\n",
      "    RICE  \n",
      "7  112.0  \n",
      "2   56.0  \n",
      "0   40.0  \n",
      "6   40.0  \n",
      "8   16.2  \n",
      "3    9.0  \n",
      "1    4.0  \n",
      "5    4.0  \n",
      "4    3.0  \n"
     ]
    }
   ],
   "source": [
    "print(hypotheses[['Hypothesis', 'RICE']].sort_values(by= 'RICE', ascending =False))"
   ]
  },
  {
   "cell_type": "code",
   "execution_count": 53,
   "metadata": {},
   "outputs": [
    {
     "name": "stdout",
     "output_type": "stream",
     "text": [
      "                                                                                                               Hypothesis  \\\n",
      "8                                                        Launch a promotion that gives users discounts on their birthdays   \n",
      "0                                             Add two new channels for attracting traffic. This will bring 30% more users   \n",
      "7                                Add a subscription form to all the main pages. This will help you compile a mailing list   \n",
      "6                                 Show banners with current offers and sales on the main page. This will boost conversion   \n",
      "2          Add product recommendation blocks to the store's site. This will increase conversion and average purchase size   \n",
      "1                                                       Launch your own delivery service. This will shorten delivery time   \n",
      "5                                                     Add a customer review page. This will increase the number of orders   \n",
      "3  Change the category structure. This will increase conversion since users will find the products they want more quickly   \n",
      "4                                        Change the background color on the main page. This will increase user engagement   \n",
      "\n",
      "         ICE  \n",
      "8  16.200000  \n",
      "0  13.333333  \n",
      "7  11.200000  \n",
      "6   8.000000  \n",
      "2   7.000000  \n",
      "1   2.000000  \n",
      "5   1.333333  \n",
      "3   1.125000  \n",
      "4   1.000000  \n"
     ]
    }
   ],
   "source": [
    "print(hypotheses[['Hypothesis', 'ICE']].sort_values(by= 'ICE', ascending =False))"
   ]
  },
  {
   "cell_type": "markdown",
   "metadata": {},
   "source": [
    "**Comentarios:**\n",
    "\n",
    "RICE y ICE en este caso tienen los mismos valores de base, se considera el imapcto y la confianza, y estas se dividen entre el esfuerzo que implica. Sin embargo RICE toma también en consideración el alcance. Por ello la calificación de los dos paramaretros para cada hipotesis es diferente. \n",
    "\n",
    "En el caso de RICE agregar un formato de suscripción a todas las páginas principales, para compilar una lista de correos electronicos es la hipótesis que se debe priorizar, mientras que en el caso de ICE esta misma hipótesis ocupa el tercer lugar y en primer lugar está lanzar una campaña que ofrezca a los usuarios descuentos en sus cumpleaños. \n",
    "\n",
    "Pero si lo que se busca es considerar tanto RICE como ICE este podría ser un buen intermedio, considerando las 4 principales hipótesis de ambos: \n",
    "\n",
    "1. agregar un formato de suscripción a todas las páginas principales, para compilar una lista de correos electronicos\n",
    "2. lanzar una campaña que ofrezca a los usuarios descuentos en sus cumpleaños\n",
    "3. agregar dos canales para atraer tráico de usuarios, para obtener un incremento del 30%\n",
    "4. mostrar anuncios con ofertas y ventas actuales en la página principal, para aumentar la conversión\n",
    "\n",
    "Se aclara que como RICE considera también el factor alcance, este podría ser un parámetro un poco más completo. "
   ]
  },
  {
   "cell_type": "markdown",
   "metadata": {},
   "source": [
    "<div class=\"alert alert-block alert-success\">\n",
    "<b>Comentario del revisor</b> <a class=\"tocSkip\"></a>\n",
    "    \n",
    "Buen trabajo. Aplicas los frameworks RISE e ICE de manera correcta. Adicional a lo anterior, realizas una comparación de los resultados de muy buena manear y genera conclusiones coherentes e interesantes. </div>"
   ]
  },
  {
   "cell_type": "markdown",
   "metadata": {},
   "source": [
    "<div class=\"alert alert-block alert-danger\">\n",
    "<b>Comentario del revisor</b> <a class=\"tocSkip\"></a>\n",
    "    \n",
    "**Comentario Importante** \n",
    "    \n",
    "~~Hola, Natalia. He revisado toda to sección de Análisis de test A/B y realmente luce bien e interesante, ahora bien, me he fijado que antes de desarrollarla no has tenido en cuenta un aspecto importante para que las conclusiones que obtengamos sean las correctas, debes previos al desarrollo de los análisis identificar y eliminar los usuarios que están presentes en los dos grupos.~~ </div>\n"
   ]
  },
  {
   "cell_type": "markdown",
   "metadata": {},
   "source": [
    "### Análisis del test A/B"
   ]
  },
  {
   "cell_type": "code",
   "execution_count": 54,
   "metadata": {},
   "outputs": [
    {
     "data": {
      "text/html": [
       "<div>\n",
       "<style scoped>\n",
       "    .dataframe tbody tr th:only-of-type {\n",
       "        vertical-align: middle;\n",
       "    }\n",
       "\n",
       "    .dataframe tbody tr th {\n",
       "        vertical-align: top;\n",
       "    }\n",
       "\n",
       "    .dataframe thead th {\n",
       "        text-align: right;\n",
       "    }\n",
       "</style>\n",
       "<table border=\"1\" class=\"dataframe\">\n",
       "  <thead>\n",
       "    <tr style=\"text-align: right;\">\n",
       "      <th></th>\n",
       "      <th>date</th>\n",
       "      <th>group</th>\n",
       "      <th>visits</th>\n",
       "    </tr>\n",
       "  </thead>\n",
       "  <tbody>\n",
       "    <tr>\n",
       "      <th>0</th>\n",
       "      <td>2019-08-01</td>\n",
       "      <td>A</td>\n",
       "      <td>719</td>\n",
       "    </tr>\n",
       "    <tr>\n",
       "      <th>1</th>\n",
       "      <td>2019-08-02</td>\n",
       "      <td>A</td>\n",
       "      <td>619</td>\n",
       "    </tr>\n",
       "    <tr>\n",
       "      <th>2</th>\n",
       "      <td>2019-08-03</td>\n",
       "      <td>A</td>\n",
       "      <td>507</td>\n",
       "    </tr>\n",
       "    <tr>\n",
       "      <th>3</th>\n",
       "      <td>2019-08-04</td>\n",
       "      <td>A</td>\n",
       "      <td>717</td>\n",
       "    </tr>\n",
       "    <tr>\n",
       "      <th>4</th>\n",
       "      <td>2019-08-05</td>\n",
       "      <td>A</td>\n",
       "      <td>756</td>\n",
       "    </tr>\n",
       "    <tr>\n",
       "      <th>...</th>\n",
       "      <td>...</td>\n",
       "      <td>...</td>\n",
       "      <td>...</td>\n",
       "    </tr>\n",
       "    <tr>\n",
       "      <th>57</th>\n",
       "      <td>2019-08-27</td>\n",
       "      <td>B</td>\n",
       "      <td>720</td>\n",
       "    </tr>\n",
       "    <tr>\n",
       "      <th>58</th>\n",
       "      <td>2019-08-28</td>\n",
       "      <td>B</td>\n",
       "      <td>654</td>\n",
       "    </tr>\n",
       "    <tr>\n",
       "      <th>59</th>\n",
       "      <td>2019-08-29</td>\n",
       "      <td>B</td>\n",
       "      <td>531</td>\n",
       "    </tr>\n",
       "    <tr>\n",
       "      <th>60</th>\n",
       "      <td>2019-08-30</td>\n",
       "      <td>B</td>\n",
       "      <td>490</td>\n",
       "    </tr>\n",
       "    <tr>\n",
       "      <th>61</th>\n",
       "      <td>2019-08-31</td>\n",
       "      <td>B</td>\n",
       "      <td>718</td>\n",
       "    </tr>\n",
       "  </tbody>\n",
       "</table>\n",
       "<p>62 rows × 3 columns</p>\n",
       "</div>"
      ],
      "text/plain": [
       "         date group  visits\n",
       "0  2019-08-01     A     719\n",
       "1  2019-08-02     A     619\n",
       "2  2019-08-03     A     507\n",
       "3  2019-08-04     A     717\n",
       "4  2019-08-05     A     756\n",
       "..        ...   ...     ...\n",
       "57 2019-08-27     B     720\n",
       "58 2019-08-28     B     654\n",
       "59 2019-08-29     B     531\n",
       "60 2019-08-30     B     490\n",
       "61 2019-08-31     B     718\n",
       "\n",
       "[62 rows x 3 columns]"
      ]
     },
     "execution_count": 54,
     "metadata": {},
     "output_type": "execute_result"
    }
   ],
   "source": [
    "#se abre el dataframe visits\n",
    "visits"
   ]
  },
  {
   "cell_type": "code",
   "execution_count": 55,
   "metadata": {},
   "outputs": [
    {
     "data": {
      "text/html": [
       "<div>\n",
       "<style scoped>\n",
       "    .dataframe tbody tr th:only-of-type {\n",
       "        vertical-align: middle;\n",
       "    }\n",
       "\n",
       "    .dataframe tbody tr th {\n",
       "        vertical-align: top;\n",
       "    }\n",
       "\n",
       "    .dataframe thead th {\n",
       "        text-align: right;\n",
       "    }\n",
       "</style>\n",
       "<table border=\"1\" class=\"dataframe\">\n",
       "  <thead>\n",
       "    <tr style=\"text-align: right;\">\n",
       "      <th></th>\n",
       "      <th>transactionId</th>\n",
       "      <th>visitorId</th>\n",
       "      <th>date</th>\n",
       "      <th>revenue</th>\n",
       "      <th>group</th>\n",
       "    </tr>\n",
       "  </thead>\n",
       "  <tbody>\n",
       "    <tr>\n",
       "      <th>0</th>\n",
       "      <td>3667963787</td>\n",
       "      <td>3312258926</td>\n",
       "      <td>2019-08-15</td>\n",
       "      <td>30.4</td>\n",
       "      <td>B</td>\n",
       "    </tr>\n",
       "    <tr>\n",
       "      <th>1</th>\n",
       "      <td>2804400009</td>\n",
       "      <td>3642806036</td>\n",
       "      <td>2019-08-15</td>\n",
       "      <td>15.2</td>\n",
       "      <td>B</td>\n",
       "    </tr>\n",
       "    <tr>\n",
       "      <th>2</th>\n",
       "      <td>2961555356</td>\n",
       "      <td>4069496402</td>\n",
       "      <td>2019-08-15</td>\n",
       "      <td>10.2</td>\n",
       "      <td>A</td>\n",
       "    </tr>\n",
       "    <tr>\n",
       "      <th>3</th>\n",
       "      <td>3797467345</td>\n",
       "      <td>1196621759</td>\n",
       "      <td>2019-08-15</td>\n",
       "      <td>155.1</td>\n",
       "      <td>B</td>\n",
       "    </tr>\n",
       "    <tr>\n",
       "      <th>4</th>\n",
       "      <td>2282983706</td>\n",
       "      <td>2322279887</td>\n",
       "      <td>2019-08-15</td>\n",
       "      <td>40.5</td>\n",
       "      <td>B</td>\n",
       "    </tr>\n",
       "    <tr>\n",
       "      <th>...</th>\n",
       "      <td>...</td>\n",
       "      <td>...</td>\n",
       "      <td>...</td>\n",
       "      <td>...</td>\n",
       "      <td>...</td>\n",
       "    </tr>\n",
       "    <tr>\n",
       "      <th>1192</th>\n",
       "      <td>2662137336</td>\n",
       "      <td>3733762160</td>\n",
       "      <td>2019-08-14</td>\n",
       "      <td>100.8</td>\n",
       "      <td>B</td>\n",
       "    </tr>\n",
       "    <tr>\n",
       "      <th>1193</th>\n",
       "      <td>2203539145</td>\n",
       "      <td>370388673</td>\n",
       "      <td>2019-08-14</td>\n",
       "      <td>50.1</td>\n",
       "      <td>A</td>\n",
       "    </tr>\n",
       "    <tr>\n",
       "      <th>1194</th>\n",
       "      <td>1807773912</td>\n",
       "      <td>573423106</td>\n",
       "      <td>2019-08-14</td>\n",
       "      <td>165.3</td>\n",
       "      <td>A</td>\n",
       "    </tr>\n",
       "    <tr>\n",
       "      <th>1195</th>\n",
       "      <td>1947021204</td>\n",
       "      <td>1614305549</td>\n",
       "      <td>2019-08-14</td>\n",
       "      <td>5.5</td>\n",
       "      <td>A</td>\n",
       "    </tr>\n",
       "    <tr>\n",
       "      <th>1196</th>\n",
       "      <td>3936777065</td>\n",
       "      <td>2108080724</td>\n",
       "      <td>2019-08-15</td>\n",
       "      <td>3120.1</td>\n",
       "      <td>B</td>\n",
       "    </tr>\n",
       "  </tbody>\n",
       "</table>\n",
       "<p>1197 rows × 5 columns</p>\n",
       "</div>"
      ],
      "text/plain": [
       "      transactionId   visitorId       date  revenue group\n",
       "0        3667963787  3312258926 2019-08-15     30.4     B\n",
       "1        2804400009  3642806036 2019-08-15     15.2     B\n",
       "2        2961555356  4069496402 2019-08-15     10.2     A\n",
       "3        3797467345  1196621759 2019-08-15    155.1     B\n",
       "4        2282983706  2322279887 2019-08-15     40.5     B\n",
       "...             ...         ...        ...      ...   ...\n",
       "1192     2662137336  3733762160 2019-08-14    100.8     B\n",
       "1193     2203539145   370388673 2019-08-14     50.1     A\n",
       "1194     1807773912   573423106 2019-08-14    165.3     A\n",
       "1195     1947021204  1614305549 2019-08-14      5.5     A\n",
       "1196     3936777065  2108080724 2019-08-15   3120.1     B\n",
       "\n",
       "[1197 rows x 5 columns]"
      ]
     },
     "execution_count": 55,
     "metadata": {},
     "output_type": "execute_result"
    }
   ],
   "source": [
    "#Se abre el dataframe orders\n",
    "orders"
   ]
  },
  {
   "cell_type": "code",
   "execution_count": 56,
   "metadata": {},
   "outputs": [],
   "source": [
    "#Se identifican los usuarios que están en dos grupos a la vez\n",
    "visitor_group_counts = orders.groupby('visitorId')['group'].nunique()\n",
    "visitors_in_multiple_groups = visitor_group_counts[visitor_group_counts > 1].index\n",
    "df_visitors_in_multiple_groups = orders[orders['visitorId'].isin(visitors_in_multiple_groups)]\n",
    "\n",
    "#Se procede a eliminar estos usuarios, ya que sesgarían la prueba\n",
    "orders_cleaned = orders[~orders['visitorId'].isin(visitors_in_multiple_groups)]"
   ]
  },
  {
   "cell_type": "markdown",
   "metadata": {},
   "source": [
    "<div class=\"alert alert-block alert-success\">\n",
    "<b>Comentario del revisor #2</b> <a class=\"tocSkip\"></a>\n",
    "    \n",
    "Perfecto, buen trabajo eliminando los usuarios repetidos en los dos grupos. </div>"
   ]
  },
  {
   "cell_type": "markdown",
   "metadata": {},
   "source": [
    "#### Ingreso acumulado por grupo"
   ]
  },
  {
   "cell_type": "code",
   "execution_count": 57,
   "metadata": {},
   "outputs": [
    {
     "data": {
      "image/png": "[encoded data removed]",
      "text/plain": [
       "<Figure size 1300x600 with 1 Axes>"
      ]
     },
     "metadata": {},
     "output_type": "display_data"
    }
   ],
   "source": [
    "#Se crea una variable con valores unicos de date y group\n",
    "datesGroups = orders[['date','group']].drop_duplicates()\n",
    "\n",
    "#Se crea la variable ordersAggregated para almacenar fecha, grupo, número de pedidos y ingresos totales\n",
    "ordersAggregated = datesGroups.apply(lambda x: orders[np.logical_and(orders['date'] <= x['date'], orders['group'] == x['group'])]\n",
    "                                     .agg({'date' : 'max', 'group' : 'max', 'transactionId' : pd.Series.nunique, 'visitorId' : \n",
    "                                           pd.Series.nunique, 'revenue' : 'sum'}), axis=1).sort_values(by=['date','group'])\n",
    "\n",
    "#Se crea la variable visitorsAggregated para almacenar fecha, grupo y el total de visitas\n",
    "visitorsAggregated = datesGroups.apply(lambda x: visits[np.logical_and(visits['date'] <= x['date'], visits['group'] == x['group'])]\n",
    "                                       .agg({'date' : 'max', 'group' : 'max', 'visits' : 'sum'}), \n",
    "                                       axis=1).sort_values(by=['date','group'])\n",
    "\n",
    "#Se define la variable cumulativeData para unificar los dataframes visitorsAggregated y ordersAggregated\n",
    "cumulativeData = pd.merge(ordersAggregated, visitorsAggregated, left_on=['date', 'group'], right_on=['date', 'group'])\n",
    "cumulativeData.columns = ['date', 'group', 'orders', 'buyers', 'revenue', 'visitors']\n",
    "\n",
    "#Se declaran las variables cumulativeRevenueA y cumulativeRevenueB para almacenar la información de cada grupo\n",
    "cumulativeRevenueA = cumulativeData[cumulativeData['group']=='A'][['date','revenue', 'orders']]\n",
    "cumulativeRevenueB = cumulativeData[cumulativeData['group']=='B'][['date','revenue', 'orders']]\n",
    "\n",
    "#Se gráfica el ingreso acumulado por grupo\n",
    "plt.figure(figsize=(13, 6))\n",
    "plt.plot(cumulativeRevenueA['date'], cumulativeRevenueA['revenue'], label='A')\n",
    "plt.plot(cumulativeRevenueB['date'], cumulativeRevenueB['revenue'], label='B')\n",
    "plt.title('Ingreso acumulado por grupo')\n",
    "plt.xlabel('Fecha')\n",
    "plt.ylabel('Ingresos')\n",
    "plt.legend();"
   ]
  },
  {
   "cell_type": "markdown",
   "metadata": {},
   "source": [
    "**Comentarios:**\n",
    "\n",
    "Podría decirse que al iniciio de la prueba ambos grupos tenían unos ingresos más o menos similares, pero esto fue cambiando en el transcurso de los días. Así, podría afirmarse que los ingresos acumulados del grupo B parecen ser considerablemente más altos que los del grupo A. Sin embargo, es necesario revisar la posibilidad de valores extremos en ciertos días de aplicación de la prueba, ya que como se observa, aunque hay un crecimiento uniforme en casi toda la prueba, hay algunos picos para ambos grupos, lo cual podría indicarnos que en días especificos o las ventas aumentaron o hay algunos pedidos especialmente costosos, pero no habituales. "
   ]
  },
  {
   "cell_type": "markdown",
   "metadata": {},
   "source": [
    "<div class=\"alert alert-block alert-success\">\n",
    "<b>Comentario del revisor #2</b> <a class=\"tocSkip\"></a>\n",
    "    \n",
    "Perfecto, buen trabajo con el despliegue del gráfico de los ingresos acumulados por grupo.  </div>"
   ]
  },
  {
   "cell_type": "markdown",
   "metadata": {},
   "source": [
    "#### Tamaño de pedido promedio"
   ]
  },
  {
   "cell_type": "code",
   "execution_count": 58,
   "metadata": {},
   "outputs": [
    {
     "data": {
      "image/png": "[encoded data removed]",
      "text/plain": [
       "<Figure size 1300x600 with 1 Axes>"
      ]
     },
     "metadata": {},
     "output_type": "display_data"
    }
   ],
   "source": [
    "#Se gráfica el tamaño promedio de compra\n",
    "plt.figure(figsize=(13, 6))\n",
    "plt.plot(cumulativeRevenueA['date'], cumulativeRevenueA['revenue']/cumulativeRevenueA['orders'], label='A')\n",
    "plt.plot(cumulativeRevenueB['date'], cumulativeRevenueB['revenue']/cumulativeRevenueB['orders'], label='B')\n",
    "plt.title('Tamaño promedio de pedido')\n",
    "plt.xlabel('Fecha')\n",
    "plt.ylabel('Ingresos')\n",
    "plt.legend();"
   ]
  },
  {
   "cell_type": "markdown",
   "metadata": {},
   "source": [
    "**Comentarios:**\n",
    "\n",
    "En este caso, la prueba acumulada es bastante fluctuante, no se evidencia una estabilidad o patron claro, esto puede deberse a la presencia de valores extremos. Es importante destacar que los valores extremos en el tamaño de productos podrían también estar afectando la métrica de ingreso acumulado, pero esto será evaluado más adelante. Sin embargo, en términos generales, con la información obtenida hasta el momento, podría decirse que el grupo B ha hecho compras más grandes que el grupo A, lo cual concuerda con el comportamiento de la métrica anterior.  "
   ]
  },
  {
   "cell_type": "markdown",
   "metadata": {},
   "source": [
    "<div class=\"alert alert-block alert-success\">\n",
    "<b>Comentario del revisor #2</b> <a class=\"tocSkip\"></a>\n",
    "    \n",
    "Perfecto, buen trabajo con el despliegue del gráfico del tamaño de pedido pormedio acumulado por grupo.  </div>"
   ]
  },
  {
   "cell_type": "code",
   "execution_count": 59,
   "metadata": {},
   "outputs": [
    {
     "data": {
      "image/png": "[encoded data removed]",
      "text/plain": [
       "<Figure size 1300x600 with 1 Axes>"
      ]
     },
     "metadata": {},
     "output_type": "display_data"
    }
   ],
   "source": [
    "# Se crea el DataFrame mergedCumulativeRevenue para unir los datos de cumulativeRevenueA y cumulativeRevenueB\n",
    "mergedCumulativeRevenue = cumulativeRevenueA.merge(cumulativeRevenueB, left_on='date', right_on='date', how='left', suffixes=['A', 'B'])\n",
    "\n",
    "# Se gráfica la diferencia relativa para los tamaños de compra promedio\n",
    "plt.figure(figsize=(13, 6))\n",
    "plt.plot(mergedCumulativeRevenue['date'], (mergedCumulativeRevenue['revenueB']/mergedCumulativeRevenue['ordersB'])/(mergedCumulativeRevenue['revenueA']/mergedCumulativeRevenue['ordersA'])-1)\n",
    "plt.axhline(y=0, color='black', linestyle='--')\n",
    "plt.title('Gráfico de diferencia relativa en los tamaños de pedidos')\n",
    "plt.xlabel('Fecha')\n",
    "plt.ylabel('Tasa de diferencia relativa');"
   ]
  },
  {
   "cell_type": "markdown",
   "metadata": {},
   "source": [
    "**Comentarios:**\n",
    "\n",
    "En este caso también se observan fluctuaciones, se observan picos, no es un gráfico realmente estable, lo que podría significar presencia de valores extremos, sin embargo, también seguiría indicando un mejor comportamiento en las metricas para el grupo B que para el grupo A. "
   ]
  },
  {
   "cell_type": "markdown",
   "metadata": {},
   "source": [
    "<div class=\"alert alert-block alert-success\">\n",
    "<b>Comentario del revisor #2</b> <a class=\"tocSkip\"></a>\n",
    "    \n",
    "Perfecto, buen trabajo con el desarrollo del grafico de a diferencia relativa en el tamaño de los grupos.   </div>"
   ]
  },
  {
   "cell_type": "markdown",
   "metadata": {},
   "source": [
    "#### Tasa de Conversión Acumulada"
   ]
  },
  {
   "cell_type": "code",
   "execution_count": 60,
   "metadata": {},
   "outputs": [
    {
     "data": {
      "image/png": "[encoded data removed]",
      "text/plain": [
       "<Figure size 1300x600 with 1 Axes>"
      ]
     },
     "metadata": {},
     "output_type": "display_data"
    }
   ],
   "source": [
    "#Se crea la columna conversion en el dataframe cumulativeData\n",
    "cumulativeData['conversion'] = cumulativeData['orders']/cumulativeData['visitors']\n",
    "\n",
    "#Se crean las variables cumulativeDataA y cumulativeDataB para almacenar solo la información del grupo A y B\n",
    "cumulativeDataA = cumulativeData[cumulativeData['group']=='A']\n",
    "cumulativeDataB = cumulativeData[cumulativeData['group']=='B']\n",
    "\n",
    "#Se gráfica la tasa de conversión acumulada\n",
    "plt.figure(figsize=(13, 6))\n",
    "plt.plot(cumulativeDataA['date'], cumulativeDataA['conversion'], label='A')\n",
    "plt.plot(cumulativeDataB['date'], cumulativeDataB['conversion'], label='B')\n",
    "plt.title('Tasa de conversión acumulada')\n",
    "plt.xlabel('Fecha')\n",
    "plt.ylabel('Tasa de conversión')\n",
    "plt.legend();"
   ]
  },
  {
   "cell_type": "markdown",
   "metadata": {},
   "source": [
    "**Comentarios:**\n",
    "\n",
    "Al principio de la prueba se ve mayor insestabilidad en los datos, lo cual podría considerarse normal por el tamaño de la muestra, pero posteriormente la gráfica se va estabilizando. Al principio pareciera ser que el grupo A tiene una mayor tasa de conversión, sin embargo, con el transcurrir de la prueba, la gráfica cae y sigue un comportamiento decreciente. Lo contrario pasa con el grupo B, que inicia con un comportamiento negativo, pero luego la grafica crece y mantiene ese comportamiento. Aunque hay picos, la metrica del grupo B sigue siendo considerablemente mejor que la del grupo A. "
   ]
  },
  {
   "cell_type": "markdown",
   "metadata": {},
   "source": [
    "<div class=\"alert alert-block alert-success\">\n",
    "<b>Comentario del revisor #2</b> <a class=\"tocSkip\"></a>\n",
    "    \n",
    "Perfecto, buen trabajo con el desarrollo del grafico de la tasa de conversión acumulada.   </div>"
   ]
  },
  {
   "cell_type": "code",
   "execution_count": 61,
   "metadata": {},
   "outputs": [
    {
     "data": {
      "image/png": "[encoded data removed]",
      "text/plain": [
       "<Figure size 1300x600 with 1 Axes>"
      ]
     },
     "metadata": {},
     "output_type": "display_data"
    }
   ],
   "source": [
    "# Se crea el DataFrame mergedCumulativeConversions para unir los datos de cumulativeRevenueA y cumulativeRevenueB\n",
    "mergedCumulativeConversions = cumulativeDataA[['date','conversion']].merge(cumulativeDataB[['date','conversion']], left_on='date', right_on='date', how='left', suffixes=['A', 'B'])\n",
    "\n",
    "# Se gráfica la Tasa de conversión relativa\n",
    "plt.figure(figsize=(13, 6))\n",
    "plt.plot(mergedCumulativeConversions['date'], mergedCumulativeConversions['conversionB']/mergedCumulativeConversions['conversionA']-1)\n",
    "plt.axhline(y=0, color='black', linestyle='--')\n",
    "plt.axhline(y=-0.1, color='grey', linestyle='--')\n",
    "plt.title('Diferencia relativa en tasas de conversión entre los grupos A y B')\n",
    "plt.xlabel('Fecha')\n",
    "plt.ylabel('Tasa de conversión relativa');"
   ]
  },
  {
   "cell_type": "markdown",
   "metadata": {},
   "source": [
    "**Comentarios:**\n",
    "\n",
    "De acuerdo a la gráfica de diferencia relativa, solo al principio de la prueba se observa un mejor comportamiento para el grupo A, pero de manera temprana se identiifica un claro crecimiento en la tasa de conversión para el grupo B."
   ]
  },
  {
   "cell_type": "markdown",
   "metadata": {},
   "source": [
    "<div class=\"alert alert-block alert-success\">\n",
    "<b>Comentario del revisor #2</b> <a class=\"tocSkip\"></a>\n",
    "    \n",
    "Perfecto, buen trabajo con el desarrollo del grafico de la diferencia relativa en las tasas de conversión.  </div>"
   ]
  },
  {
   "cell_type": "markdown",
   "metadata": {},
   "source": [
    "### Detección de valores atípicos"
   ]
  },
  {
   "cell_type": "markdown",
   "metadata": {},
   "source": [
    "#### Número de pedidos por usuario"
   ]
  },
  {
   "cell_type": "code",
   "execution_count": 62,
   "metadata": {},
   "outputs": [
    {
     "data": {
      "text/html": [
       "<div>\n",
       "<style scoped>\n",
       "    .dataframe tbody tr th:only-of-type {\n",
       "        vertical-align: middle;\n",
       "    }\n",
       "\n",
       "    .dataframe tbody tr th {\n",
       "        vertical-align: top;\n",
       "    }\n",
       "\n",
       "    .dataframe thead th {\n",
       "        text-align: right;\n",
       "    }\n",
       "</style>\n",
       "<table border=\"1\" class=\"dataframe\">\n",
       "  <thead>\n",
       "    <tr style=\"text-align: right;\">\n",
       "      <th></th>\n",
       "      <th>visitorId</th>\n",
       "      <th>orders</th>\n",
       "    </tr>\n",
       "  </thead>\n",
       "  <tbody>\n",
       "    <tr>\n",
       "      <th>1023</th>\n",
       "      <td>4256040402</td>\n",
       "      <td>11</td>\n",
       "    </tr>\n",
       "    <tr>\n",
       "      <th>591</th>\n",
       "      <td>2458001652</td>\n",
       "      <td>11</td>\n",
       "    </tr>\n",
       "    <tr>\n",
       "      <th>569</th>\n",
       "      <td>2378935119</td>\n",
       "      <td>9</td>\n",
       "    </tr>\n",
       "    <tr>\n",
       "      <th>487</th>\n",
       "      <td>2038680547</td>\n",
       "      <td>8</td>\n",
       "    </tr>\n",
       "    <tr>\n",
       "      <th>44</th>\n",
       "      <td>199603092</td>\n",
       "      <td>5</td>\n",
       "    </tr>\n",
       "    <tr>\n",
       "      <th>744</th>\n",
       "      <td>3062433592</td>\n",
       "      <td>5</td>\n",
       "    </tr>\n",
       "    <tr>\n",
       "      <th>55</th>\n",
       "      <td>237748145</td>\n",
       "      <td>5</td>\n",
       "    </tr>\n",
       "    <tr>\n",
       "      <th>917</th>\n",
       "      <td>3803269165</td>\n",
       "      <td>5</td>\n",
       "    </tr>\n",
       "    <tr>\n",
       "      <th>299</th>\n",
       "      <td>1230306981</td>\n",
       "      <td>5</td>\n",
       "    </tr>\n",
       "    <tr>\n",
       "      <th>897</th>\n",
       "      <td>3717692402</td>\n",
       "      <td>5</td>\n",
       "    </tr>\n",
       "  </tbody>\n",
       "</table>\n",
       "</div>"
      ],
      "text/plain": [
       "       visitorId  orders\n",
       "1023  4256040402      11\n",
       "591   2458001652      11\n",
       "569   2378935119       9\n",
       "487   2038680547       8\n",
       "44     199603092       5\n",
       "744   3062433592       5\n",
       "55     237748145       5\n",
       "917   3803269165       5\n",
       "299   1230306981       5\n",
       "897   3717692402       5"
      ]
     },
     "execution_count": 62,
     "metadata": {},
     "output_type": "execute_result"
    }
   ],
   "source": [
    "#Se calcula el número de pedidos por usuario\n",
    "ordersByUsers = (\n",
    "    orders.drop(['group', 'revenue', 'date'], axis=1)\n",
    "    .groupby('visitorId', as_index=False)\n",
    "    .agg({'transactionId': pd.Series.nunique})\n",
    ")\n",
    "\n",
    "ordersByUsers.columns = ['visitorId', 'orders']\n",
    "\n",
    "ordersByUsers.sort_values(by='orders', ascending=False).head(10)"
   ]
  },
  {
   "cell_type": "code",
   "execution_count": 63,
   "metadata": {},
   "outputs": [
    {
     "data": {
      "image/png": "[encoded data removed]",
      "text/plain": [
       "<Figure size 640x480 with 1 Axes>"
      ]
     },
     "metadata": {},
     "output_type": "display_data"
    }
   ],
   "source": [
    "#Se hace gráfico de dispersión para pedidos por usuario\n",
    "x_values = pd.Series(range(0, len(ordersByUsers['visitorId'])))\n",
    "plt.scatter(x_values, ordersByUsers['orders'])\n",
    "plt.title('Gráfico de dispersión de pedidos por usuario')\n",
    "plt.xlabel('visitantes')\n",
    "plt.ylabel('cantidad de ordenes')\n",
    "plt.show();"
   ]
  },
  {
   "cell_type": "code",
   "execution_count": 64,
   "metadata": {},
   "outputs": [
    {
     "name": "stdout",
     "output_type": "stream",
     "text": [
      "[1. 2. 4.]\n"
     ]
    }
   ],
   "source": [
    "#Se calculan percentiles de número de pedidos por usuario\n",
    "print(np.percentile(ordersByUsers['orders'], [90, 95, 99]))"
   ]
  },
  {
   "cell_type": "markdown",
   "metadata": {},
   "source": [
    "**Comentarios:**\n",
    "\n",
    "Respecto al comportamiento de los datos sobre el número de pedidos, podría decirse que en el 90% de los casos se hizo un pedido por usuario, siendo este el comportamiento más habitual, solo el 5% de los usuarios hicieron entre 2 y 4 pedidos y especificamente el 1% hizo 4 pedidos. \n",
    "Esto nos indicaría que los clientes que hicieron más de 1 pedido realmente son excepcionales, son valores extremos, como puede corroborarse en el gráfico de dispersión. "
   ]
  },
  {
   "cell_type": "markdown",
   "metadata": {},
   "source": [
    "<div class=\"alert alert-block alert-success\">\n",
    "<b>Comentario del revisor #2</b> <a class=\"tocSkip\"></a>\n",
    "    \n",
    "Buen trabajo con el grafico de disperisón del numero de pedidos por usuario y asi mismo con el calculo de los percentiles. </div>"
   ]
  },
  {
   "cell_type": "code",
   "execution_count": 65,
   "metadata": {},
   "outputs": [
    {
     "data": {
      "image/png": "[encoded data removed]",
      "text/plain": [
       "<Figure size 640x480 with 1 Axes>"
      ]
     },
     "metadata": {},
     "output_type": "display_data"
    }
   ],
   "source": [
    "#Se hace un gráfico de dispersión para los ingresos por pedidos\n",
    "x_values = pd.Series(range(0, len(orders_cleaned['revenue'])))\n",
    "plt.scatter(x_values, orders_cleaned['revenue'])\n",
    "plt.title('Gráfico de dispersión de ingresos')\n",
    "plt.xlabel('Valores de X')\n",
    "plt.ylabel('Ingresos')\n",
    "plt.show();"
   ]
  },
  {
   "cell_type": "code",
   "execution_count": 66,
   "metadata": {},
   "outputs": [
    {
     "name": "stdout",
     "output_type": "stream",
     "text": [
      "[280.8   414.275 830.3  ]\n"
     ]
    }
   ],
   "source": [
    "print(np.percentile(orders_cleaned['revenue'], [90, 95, 99]))"
   ]
  },
  {
   "cell_type": "markdown",
   "metadata": {},
   "source": [
    "**Comentarios:**\n",
    "\n",
    "En este caso aunque existen algunos valores atipicos, hay mayor uniformidad que en el caso de la metrica anterior. Aquí el 90% de las ordenes generaron ingresos por debajo de 280.8 dolares, solo el 5% de los usuarios hizo pedidos de por lo menos 414.27 dolares y solo el 1% hizo compras sobre 830.3 dolares. "
   ]
  },
  {
   "cell_type": "markdown",
   "metadata": {},
   "source": [
    "<div class=\"alert alert-block alert-success\">\n",
    "<b>Comentario del revisor #2</b> <a class=\"tocSkip\"></a>\n",
    "    \n",
    "Buen trabajo con el grafico de disperisón del precio de los pedidos y asi mismo con el calculo de los percentiles. </div>"
   ]
  },
  {
   "cell_type": "code",
   "execution_count": 74,
   "metadata": {},
   "outputs": [
    {
     "name": "stdout",
     "output_type": "stream",
     "text": [
      "0.01679\n",
      "0.138\n"
     ]
    }
   ],
   "source": [
    "#Se calcula la significancia estadistica de la diferencia en la conversión entre grupo A y B con datos brutos\n",
    "\n",
    "ordersByUsersA = orders[orders['group']=='A'].groupby('visitorId', as_index=False).agg({'transactionId' : pd.Series.nunique})\n",
    "ordersByUsersA.columns = ['visitorId', 'orders']\n",
    "\n",
    "ordersByUsersB = orders[orders['group']=='B'].groupby('visitorId', as_index=False).agg({'transactionId' : pd.Series.nunique})\n",
    "ordersByUsersB.columns = ['visitorId', 'orders']\n",
    "\n",
    "pd.Series(0, index=np.arange(visits[visits['group']=='A']['visits'].sum() - len(ordersByUsersA['orders'])), name='orders')\n",
    "\n",
    "[ordersByUsersA['orders'],pd.Series(0, index=np.arange(visits[visits['group']=='A']['visits'].sum() - len(ordersByUsersA['orders'])), name='orders')]\n",
    "\n",
    "sampleA = pd.concat([ordersByUsersA['orders'],pd.Series(0, index=np.arange(visits[visits['group']=='A']['visits'].sum() - len(ordersByUsersA['orders'])), name='orders')],axis=0)\n",
    "\n",
    "sampleB = pd.concat([ordersByUsersB['orders'],pd.Series(0, index=np.arange(visits[visits['group']=='B']['visits'].sum() - len(ordersByUsersB['orders'])), name='orders')],axis=0)\n",
    "\n",
    "ordersByUsersA = orders[orders['group']=='A'].groupby('visitorId', as_index=False).agg({'transactionId' : pd.Series.nunique})\n",
    "ordersByUsersA.columns = ['visitorId', 'orders']\n",
    "\n",
    "ordersByUsersB = orders[orders['group']=='B'].groupby('visitorId', as_index=False).agg({'transactionId' : pd.Series.nunique})\n",
    "ordersByUsersB.columns = ['visitorId', 'orders']\n",
    "\n",
    "sampleA = pd.concat([ordersByUsersA['orders'],pd.Series(0, index=np.arange(visits[visits['group']=='A']['visits'].sum() - len(ordersByUsersA['orders'])), name='orders')],axis=0)\n",
    "\n",
    "sampleB = pd.concat([ordersByUsersB['orders'],pd.Series(0, index=np.arange(visits[visits['group']=='B']['visits'].sum() - len(ordersByUsersB['orders'])), name='orders')],axis=0)\n",
    "\n",
    "print(\"{0:.5f}\".format(stats.mannwhitneyu(sampleA, sampleB)[1]))\n",
    "\n",
    "print(\"{0:.3f}\".format(sampleB.mean()/sampleA.mean()-1))\n"
   ]
  },
  {
   "cell_type": "markdown",
   "metadata": {},
   "source": [
    "**Comentarios:**\n",
    "\n",
    "Para calcular la significancia estadistica en la conversión de ambos grupos se aplicó la prueba Mann-Whitney U. Los resultados indican una diferencia significativa entre el grupo A y B, y una probabilidad menor al 1.6% de que esta diferencia se deba al azar. El resultado también indica que el grupo B tiene un rendimiento 13.8% mejor que el del grupo A, lo cual concuerda con todo lo observado a lo largo de la prueba. "
   ]
  },
  {
   "cell_type": "code",
   "execution_count": 68,
   "metadata": {},
   "outputs": [
    {
     "name": "stdout",
     "output_type": "stream",
     "text": [
      "0.692\n",
      "0.252\n"
     ]
    }
   ],
   "source": [
    "#Se calcula la significancia estadística de la diferencia en el tamaño promedio de pedido entre los grupos con datos brutos\n",
    "print('{0:.3f}'.format(stats.mannwhitneyu(orders[orders['group']=='A']['revenue'], orders[orders['group']=='B']['revenue'])[1]))\n",
    "print('{0:.3f}'.format(orders[orders['group']=='B']['revenue'].mean()/orders[orders['group']=='A']['revenue'].mean()-1))"
   ]
  },
  {
   "cell_type": "markdown",
   "metadata": {},
   "source": [
    "**Comentarios:**\n",
    "\n",
    "En este caso, los resultados sugerirían que no hay diferencia entre los grupos y que el grupo B sigue teniendo un comportamiento 25% mejor que el del grupo A. "
   ]
  },
  {
   "cell_type": "code",
   "execution_count": 76,
   "metadata": {},
   "outputs": [
    {
     "name": "stdout",
     "output_type": "stream",
     "text": [
      "1099    148427295\n",
      "18      199603092\n",
      "23      237748145\n",
      "37      249864742\n",
      "684     358944393\n",
      "Name: visitorId, dtype: int64\n",
      "(47,)\n"
     ]
    }
   ],
   "source": [
    "#Se identifican los usuarios anómalos por numero de pedido y por costo de pedido\n",
    "usersWithManyOrders = pd.concat([ordersByUsersA[ordersByUsersA['orders'] > 2]['visitorId'], ordersByUsersB[ordersByUsersB['orders'] > 2]['visitorId']], axis = 0)\n",
    "usersWithExpensiveOrders = orders[orders['revenue'] > 600]['visitorId']\n",
    "abnormalUsers = pd.concat([usersWithManyOrders, usersWithExpensiveOrders], axis = 0).drop_duplicates().sort_values()\n",
    "print(abnormalUsers.head(5))\n",
    "print(abnormalUsers.shape)"
   ]
  },
  {
   "cell_type": "code",
   "execution_count": 81,
   "metadata": {},
   "outputs": [
    {
     "name": "stdout",
     "output_type": "stream",
     "text": [
      "0.007\n",
      "0.186\n"
     ]
    }
   ],
   "source": [
    "#Se crea un filtro que excluye los usuarios anómalos\n",
    "sampleAFiltered = pd.concat([ordersByUsersA[np.logical_not(ordersByUsersA['visitorId'].isin(abnormalUsers))]['orders'],pd.Series(0, index=np.arange(visits[visits['group']=='A']['visits'].sum() - len(ordersByUsersA['orders'])),name='orders')],axis=0)\n",
    "sampleBFiltered = pd.concat([ordersByUsersB[np.logical_not(ordersByUsersB['visitorId'].isin(abnormalUsers))]['orders'],pd.Series(0, index=np.arange(visits[visits['group']=='B']['visits'].sum() - len(ordersByUsersB['orders'])),name='orders')],axis=0)\n",
    "\n",
    "#Se calcula la significancia estadistica de la conversión de los usuarios con datos filtrados\n",
    "print(\"{0:.3f}\".format(stats.mannwhitneyu(sampleAFiltered, sampleBFiltered)[1]))\n",
    "print(\"{0:.3f}\".format(sampleBFiltered.mean()/sampleAFiltered.mean()-1))"
   ]
  },
  {
   "cell_type": "markdown",
   "metadata": {},
   "source": [
    "**Comentarios:**\n",
    "\n",
    "Anteriormente se había calculado la significancia estadistica con todo el conjunto de datos, incluyendo los valores extremos o anomalos. Aquí se aplicó un filtro que excluía esos casos, y se obtuvo como resultado que en el caso de la conversión de los usuarios sí hay una diferencia significativa entre los grupos, y el grupo B tiene un comportamiento 18,6% mejor que el grupo A, lo cual concuerda con los resultados hallados anteriormente. "
   ]
  },
  {
   "cell_type": "code",
   "execution_count": 80,
   "metadata": {},
   "outputs": [
    {
     "name": "stdout",
     "output_type": "stream",
     "text": [
      "0.918\n",
      "0.056\n"
     ]
    }
   ],
   "source": [
    "#Se calcula la significancia estadistica en el tamaño promedio de los pedidos con datos filtrados\n",
    "print('{0:.3f}'.format(stats.mannwhitneyu(\n",
    "    orders[np.logical_and(\n",
    "        orders['group']=='A',\n",
    "        np.logical_not(orders['visitorId'].isin(abnormalUsers)))]['revenue'],\n",
    "    orders[np.logical_and(\n",
    "        orders['group']=='B',\n",
    "        np.logical_not(orders['visitorId'].isin(abnormalUsers)))]['revenue'])[1]))\n",
    "\n",
    "print('{0:.3f}'.format(\n",
    "    orders[np.logical_and(orders['group']=='B',np.logical_not(orders['visitorId'].isin(abnormalUsers)))]['revenue'].mean()/\n",
    "    orders[np.logical_and(\n",
    "        orders['group']=='A',\n",
    "        np.logical_not(orders['visitorId'].isin(abnormalUsers)))]['revenue'].mean() - 1))"
   ]
  },
  {
   "cell_type": "markdown",
   "metadata": {},
   "source": [
    "**Comentarios:**\n",
    "\n",
    "Nuevamente se calcula la significancia estadistica en el tamaño promedio de los pedidos pero en esta ocasión excluyendo los valores extremos, se observa que no hay una diferencia entre los grupos, y que el grupo B tiene un comportamiento 56% mejor que el grupo A. "
   ]
  },
  {
   "cell_type": "markdown",
   "metadata": {},
   "source": [
    "<div class=\"alert alert-block alert-success\">\n",
    "<b>Comentario del revisor #2</b> <a class=\"tocSkip\"></a>\n",
    "    \n",
    "Buen trabajo con el desarrollo de las secciones de significancia estadística. </div>"
   ]
  },
  {
   "cell_type": "markdown",
   "metadata": {},
   "source": [
    "### Conclusiones"
   ]
  },
  {
   "cell_type": "markdown",
   "metadata": {},
   "source": [
    "* De acuerdo a los indicadores RICE y ICE, estas son las hipótesis que se consideran más relevantes:\n",
    "1. agregar un formato de suscripción a todas las páginas principales, para compilar una lista de correos electronicos\n",
    "2. lanzar una campaña que ofrezca a los usuarios descuentos en sus cumpleaños\n",
    "3. agregar dos canales para atraer tráico de usuarios, para obtener un incremento del 30%\n",
    "4. mostrar anuncios con ofertas y ventas actuales en la página principal, para aumentar la conversión\n",
    "\n",
    "* A lo largo de la prueba se observa un comportamiento favorable del grupo B, en comparación con el grupo A, aunque se observaron valores extremos, se calculó la significancia estadistica de los datos brutos y filtrados para obtener conclusiones más certeras.  \n",
    "\n",
    "* En el caso de la métrica de conversión, la significancia estadistica de los datos brutos indican que existe una diferencia importante entre el grupo A y B y que B tiene un rendimiento 13.8% mejor que el del grupo A. Ahora bien, luego de filtrar los datos, los resultados de la significancia estadistica reconfirman lo anterior, pero indican que el grupo B tiene un comportamiento 18,6% mejor que el del grupo A. \n",
    "\n",
    "* En cuanto al tamaño promedio de los pedidos, los datos indicarian que tanto con los datos filtrados como brutos, no existe una diferencia entre los grupos, pero en ambos casos el grupo B tiene un comportamiento significativamente mejor que el grupo A: 25% en el caso de los datos brutos y 56% en el caso de los datos filtrados. Habiendo tratado esto, también se podría afirmar que el ingreso promedio de los usuarios es mayor en el grupo B que en el grupo A. \n",
    "\n",
    "* Se concluye que se puede terminar con la prueba, llegando a la conclusión de que el comportamiento del grupo B es considerablemente mejor en todas las métricas que el del grupo A. \n",
    "\n"
   ]
  },
  {
   "cell_type": "markdown",
   "metadata": {},
   "source": [
    "<div class=\"alert alert-block alert-success\">\n",
    "<b>Comentario del revisor #2</b> <a class=\"tocSkip\"></a>\n",
    "    \n",
    "Buen trabajo con el desarrollo de las secciones de conclusiones.  </div>"
   ]
  }
 ],
 "metadata": {
  "ExecuteTimeLog": [
   {
    "duration": 925,
    "start_time": "2024-05-16T15:17:40.521Z"
   },
   {
    "duration": 14,
    "start_time": "2024-05-16T15:18:23.192Z"
   },
   {
    "duration": 30,
    "start_time": "2024-05-16T15:19:43.687Z"
   },
   {
    "duration": 4,
    "start_time": "2024-05-16T15:20:49.182Z"
   },
   {
    "duration": 3939,
    "start_time": "2024-05-16T15:21:21.543Z"
   },
   {
    "duration": 119,
    "start_time": "2024-05-16T15:21:49.087Z"
   },
   {
    "duration": 16,
    "start_time": "2024-05-16T15:32:53.710Z"
   },
   {
    "duration": 16,
    "start_time": "2024-05-16T15:33:01.564Z"
   },
   {
    "duration": 18,
    "start_time": "2024-05-16T15:34:17.351Z"
   },
   {
    "duration": 12,
    "start_time": "2024-05-16T15:34:18.454Z"
   },
   {
    "duration": 12,
    "start_time": "2024-05-16T15:35:31.058Z"
   },
   {
    "duration": 7,
    "start_time": "2024-05-16T15:35:49.312Z"
   },
   {
    "duration": 7,
    "start_time": "2024-05-16T15:35:53.036Z"
   },
   {
    "duration": 6,
    "start_time": "2024-05-16T15:35:58.621Z"
   },
   {
    "duration": 6,
    "start_time": "2024-05-16T15:36:04.483Z"
   },
   {
    "duration": 1332,
    "start_time": "2024-05-16T15:36:54.016Z"
   },
   {
    "duration": 11,
    "start_time": "2024-05-16T15:37:11.918Z"
   },
   {
    "duration": 14,
    "start_time": "2024-05-16T15:51:36.263Z"
   },
   {
    "duration": 13,
    "start_time": "2024-05-16T15:51:44.629Z"
   },
   {
    "duration": 20,
    "start_time": "2024-05-16T15:53:37.577Z"
   },
   {
    "duration": 5,
    "start_time": "2024-05-16T15:53:49.139Z"
   },
   {
    "duration": 25,
    "start_time": "2024-05-16T15:53:49.206Z"
   },
   {
    "duration": 12,
    "start_time": "2024-05-16T15:53:49.235Z"
   },
   {
    "duration": 22,
    "start_time": "2024-05-16T15:53:49.250Z"
   },
   {
    "duration": 28,
    "start_time": "2024-05-16T15:57:07.761Z"
   },
   {
    "duration": 302,
    "start_time": "2024-05-16T15:57:20.730Z"
   },
   {
    "duration": 9,
    "start_time": "2024-05-16T15:57:30.741Z"
   },
   {
    "duration": 10,
    "start_time": "2024-05-16T15:58:34.212Z"
   },
   {
    "duration": 306,
    "start_time": "2024-05-17T12:46:07.308Z"
   },
   {
    "duration": 4978,
    "start_time": "2024-05-17T12:46:11.858Z"
   },
   {
    "duration": 22,
    "start_time": "2024-05-17T12:46:16.840Z"
   },
   {
    "duration": 16,
    "start_time": "2024-05-17T12:46:16.865Z"
   },
   {
    "duration": 40,
    "start_time": "2024-05-17T12:46:16.884Z"
   },
   {
    "duration": 10,
    "start_time": "2024-05-17T12:46:16.928Z"
   },
   {
    "duration": 9,
    "start_time": "2024-05-17T12:46:16.941Z"
   },
   {
    "duration": 20,
    "start_time": "2024-05-17T12:46:16.953Z"
   },
   {
    "duration": 124,
    "start_time": "2024-05-17T12:52:15.603Z"
   },
   {
    "duration": 7,
    "start_time": "2024-05-17T12:52:20.416Z"
   },
   {
    "duration": 6,
    "start_time": "2024-05-17T12:52:24.872Z"
   },
   {
    "duration": 13,
    "start_time": "2024-05-17T12:52:39.778Z"
   },
   {
    "duration": 16,
    "start_time": "2024-05-17T12:53:06.928Z"
   },
   {
    "duration": 25,
    "start_time": "2024-05-17T13:17:47.722Z"
   },
   {
    "duration": 6,
    "start_time": "2024-05-17T13:17:55.900Z"
   },
   {
    "duration": 26,
    "start_time": "2024-05-17T13:18:24.670Z"
   },
   {
    "duration": 7,
    "start_time": "2024-05-17T13:18:53.093Z"
   },
   {
    "duration": 20,
    "start_time": "2024-05-17T13:19:02.266Z"
   },
   {
    "duration": 23,
    "start_time": "2024-05-17T13:21:12.350Z"
   },
   {
    "duration": 9,
    "start_time": "2024-05-17T13:21:16.865Z"
   },
   {
    "duration": 10,
    "start_time": "2024-05-17T13:21:20.235Z"
   },
   {
    "duration": 21,
    "start_time": "2024-05-17T13:21:41.353Z"
   },
   {
    "duration": 12,
    "start_time": "2024-05-17T13:21:55.605Z"
   },
   {
    "duration": 12,
    "start_time": "2024-05-17T13:22:04.354Z"
   },
   {
    "duration": 12,
    "start_time": "2024-05-17T13:22:44.554Z"
   },
   {
    "duration": 7,
    "start_time": "2024-05-17T13:28:09.846Z"
   },
   {
    "duration": 845,
    "start_time": "2024-05-17T13:28:51.207Z"
   },
   {
    "duration": 11,
    "start_time": "2024-05-17T13:29:03.009Z"
   },
   {
    "duration": 20,
    "start_time": "2024-05-17T13:29:11.742Z"
   },
   {
    "duration": 8,
    "start_time": "2024-05-17T13:29:39.124Z"
   },
   {
    "duration": 20,
    "start_time": "2024-05-17T13:29:52.267Z"
   },
   {
    "duration": 8,
    "start_time": "2024-05-17T13:30:32.762Z"
   },
   {
    "duration": 12,
    "start_time": "2024-05-17T13:30:42.111Z"
   },
   {
    "duration": 12,
    "start_time": "2024-05-17T13:30:51.084Z"
   },
   {
    "duration": 12,
    "start_time": "2024-05-17T13:30:57.820Z"
   },
   {
    "duration": 12,
    "start_time": "2024-05-17T13:31:04.393Z"
   },
   {
    "duration": 5,
    "start_time": "2024-05-17T13:31:10.242Z"
   },
   {
    "duration": 13,
    "start_time": "2024-05-17T13:35:42.259Z"
   },
   {
    "duration": 8,
    "start_time": "2024-05-17T13:36:10.678Z"
   },
   {
    "duration": 5,
    "start_time": "2024-05-17T13:36:50.140Z"
   },
   {
    "duration": 9,
    "start_time": "2024-05-17T13:36:58.050Z"
   },
   {
    "duration": 15,
    "start_time": "2024-05-17T13:37:38.492Z"
   },
   {
    "duration": 5,
    "start_time": "2024-05-17T13:47:18.457Z"
   },
   {
    "duration": 18,
    "start_time": "2024-05-17T13:47:24.623Z"
   },
   {
    "duration": 22,
    "start_time": "2024-05-17T13:47:34.627Z"
   },
   {
    "duration": 10,
    "start_time": "2024-05-17T13:47:42.462Z"
   },
   {
    "duration": 10,
    "start_time": "2024-05-17T13:47:46.354Z"
   },
   {
    "duration": 18,
    "start_time": "2024-05-17T13:47:58.419Z"
   },
   {
    "duration": 442,
    "start_time": "2024-05-17T13:48:48.681Z"
   },
   {
    "duration": 125,
    "start_time": "2024-05-17T13:50:04.673Z"
   },
   {
    "duration": 16,
    "start_time": "2024-05-17T13:53:12.563Z"
   },
   {
    "duration": 9,
    "start_time": "2024-05-17T13:53:40.160Z"
   },
   {
    "duration": 13,
    "start_time": "2024-05-17T13:53:57.484Z"
   },
   {
    "duration": 15,
    "start_time": "2024-05-17T13:54:07.064Z"
   },
   {
    "duration": 14,
    "start_time": "2024-05-17T13:54:15.006Z"
   },
   {
    "duration": 19,
    "start_time": "2024-05-17T13:54:17.717Z"
   },
   {
    "duration": 324,
    "start_time": "2024-05-17T14:18:01.638Z"
   },
   {
    "duration": 220,
    "start_time": "2024-05-17T14:18:06.751Z"
   },
   {
    "duration": 204,
    "start_time": "2024-05-17T14:18:54.460Z"
   },
   {
    "duration": 31,
    "start_time": "2024-05-17T14:19:50.835Z"
   },
   {
    "duration": 201,
    "start_time": "2024-05-17T14:20:09.325Z"
   },
   {
    "duration": 230,
    "start_time": "2024-05-17T14:20:15.068Z"
   },
   {
    "duration": 27,
    "start_time": "2024-05-17T14:22:02.633Z"
   },
   {
    "duration": 7,
    "start_time": "2024-05-17T14:22:09.830Z"
   },
   {
    "duration": 1321,
    "start_time": "2024-05-17T14:23:08.737Z"
   },
   {
    "duration": 236,
    "start_time": "2024-05-17T14:23:29.914Z"
   },
   {
    "duration": 230,
    "start_time": "2024-05-17T14:23:41.114Z"
   },
   {
    "duration": 236,
    "start_time": "2024-05-17T14:24:21.745Z"
   },
   {
    "duration": 275,
    "start_time": "2024-05-17T14:24:37.360Z"
   },
   {
    "duration": 284,
    "start_time": "2024-05-17T14:25:36.240Z"
   },
   {
    "duration": 265,
    "start_time": "2024-05-17T14:27:10.894Z"
   },
   {
    "duration": 1307,
    "start_time": "2024-05-17T14:27:46.661Z"
   },
   {
    "duration": 20,
    "start_time": "2024-05-17T14:27:47.972Z"
   },
   {
    "duration": 18,
    "start_time": "2024-05-17T14:27:47.996Z"
   },
   {
    "duration": 16,
    "start_time": "2024-05-17T14:27:48.017Z"
   },
   {
    "duration": 20,
    "start_time": "2024-05-17T14:27:48.040Z"
   },
   {
    "duration": 54,
    "start_time": "2024-05-17T14:27:48.063Z"
   },
   {
    "duration": 11,
    "start_time": "2024-05-17T14:27:48.121Z"
   },
   {
    "duration": 16,
    "start_time": "2024-05-17T14:27:48.135Z"
   },
   {
    "duration": 58,
    "start_time": "2024-05-17T14:27:48.154Z"
   },
   {
    "duration": 12,
    "start_time": "2024-05-17T14:27:48.216Z"
   },
   {
    "duration": 297,
    "start_time": "2024-05-17T14:27:48.231Z"
   },
   {
    "duration": 246,
    "start_time": "2024-05-17T14:27:48.532Z"
   },
   {
    "duration": 6,
    "start_time": "2024-05-17T14:27:48.781Z"
   },
   {
    "duration": 338,
    "start_time": "2024-05-17T14:27:57.399Z"
   },
   {
    "duration": 226,
    "start_time": "2024-05-17T14:29:07.405Z"
   },
   {
    "duration": 6,
    "start_time": "2024-05-17T14:29:24.258Z"
   },
   {
    "duration": 7,
    "start_time": "2024-05-17T15:44:14.927Z"
   },
   {
    "duration": 1148,
    "start_time": "2024-05-17T15:44:25.226Z"
   },
   {
    "duration": 259,
    "start_time": "2024-05-17T15:45:40.984Z"
   },
   {
    "duration": 451,
    "start_time": "2024-05-17T15:51:14.059Z"
   },
   {
    "duration": 418,
    "start_time": "2024-05-17T15:52:52.456Z"
   },
   {
    "duration": 404,
    "start_time": "2024-05-17T15:53:57.639Z"
   },
   {
    "duration": 697,
    "start_time": "2024-05-17T15:55:33.152Z"
   },
   {
    "duration": 633,
    "start_time": "2024-05-17T15:55:38.881Z"
   },
   {
    "duration": 645,
    "start_time": "2024-05-17T15:57:44.731Z"
   },
   {
    "duration": 661,
    "start_time": "2024-05-17T15:58:11.161Z"
   },
   {
    "duration": 647,
    "start_time": "2024-05-17T15:58:19.243Z"
   },
   {
    "duration": 681,
    "start_time": "2024-05-17T15:58:49.299Z"
   },
   {
    "duration": 841,
    "start_time": "2024-05-17T15:59:15.862Z"
   },
   {
    "duration": 771,
    "start_time": "2024-05-17T16:00:31.466Z"
   },
   {
    "duration": 770,
    "start_time": "2024-05-17T16:00:42.886Z"
   },
   {
    "duration": 694,
    "start_time": "2024-05-17T16:00:55.923Z"
   },
   {
    "duration": 720,
    "start_time": "2024-05-17T16:01:10.233Z"
   },
   {
    "duration": 254,
    "start_time": "2024-05-17T16:07:01.341Z"
   },
   {
    "duration": 245,
    "start_time": "2024-05-17T16:07:05.186Z"
   },
   {
    "duration": 322,
    "start_time": "2024-05-17T16:08:36.662Z"
   },
   {
    "duration": 372,
    "start_time": "2024-05-17T16:09:02.800Z"
   },
   {
    "duration": 242,
    "start_time": "2024-05-17T16:09:27.000Z"
   },
   {
    "duration": 5,
    "start_time": "2024-05-17T16:09:40.360Z"
   },
   {
    "duration": 294,
    "start_time": "2024-05-17T16:11:55.100Z"
   },
   {
    "duration": 315,
    "start_time": "2024-05-17T16:14:21.910Z"
   },
   {
    "duration": 323,
    "start_time": "2024-05-17T16:14:33.901Z"
   },
   {
    "duration": 370,
    "start_time": "2024-05-17T16:14:42.690Z"
   },
   {
    "duration": 361,
    "start_time": "2024-05-17T16:16:18.076Z"
   },
   {
    "duration": 408,
    "start_time": "2024-05-17T16:19:01.088Z"
   },
   {
    "duration": 453,
    "start_time": "2024-05-17T16:19:15.380Z"
   },
   {
    "duration": 358,
    "start_time": "2024-05-17T16:19:31.067Z"
   },
   {
    "duration": 423,
    "start_time": "2024-05-17T16:19:43.664Z"
   },
   {
    "duration": 334,
    "start_time": "2024-05-17T16:26:21.559Z"
   },
   {
    "duration": 344,
    "start_time": "2024-05-17T16:26:29.571Z"
   },
   {
    "duration": 402,
    "start_time": "2024-05-17T16:26:34.513Z"
   },
   {
    "duration": 1750,
    "start_time": "2024-05-17T16:27:09.667Z"
   },
   {
    "duration": 355,
    "start_time": "2024-05-17T16:27:18.926Z"
   },
   {
    "duration": 490,
    "start_time": "2024-05-17T16:28:25.656Z"
   },
   {
    "duration": 336,
    "start_time": "2024-05-17T16:28:40.634Z"
   },
   {
    "duration": 378,
    "start_time": "2024-05-17T16:28:49.391Z"
   },
   {
    "duration": 402,
    "start_time": "2024-05-17T16:29:03.853Z"
   },
   {
    "duration": 365,
    "start_time": "2024-05-17T16:29:21.355Z"
   },
   {
    "duration": 460,
    "start_time": "2024-05-17T16:32:33.683Z"
   },
   {
    "duration": 4881,
    "start_time": "2024-05-20T03:25:42.353Z"
   },
   {
    "duration": 33,
    "start_time": "2024-05-20T03:25:47.238Z"
   },
   {
    "duration": 9,
    "start_time": "2024-05-20T03:25:47.273Z"
   },
   {
    "duration": 27,
    "start_time": "2024-05-20T03:25:47.285Z"
   },
   {
    "duration": 20,
    "start_time": "2024-05-20T03:25:47.318Z"
   },
   {
    "duration": 10,
    "start_time": "2024-05-20T03:25:47.341Z"
   },
   {
    "duration": 13,
    "start_time": "2024-05-20T03:25:47.354Z"
   },
   {
    "duration": 53,
    "start_time": "2024-05-20T03:25:47.370Z"
   },
   {
    "duration": 17,
    "start_time": "2024-05-20T03:25:47.426Z"
   },
   {
    "duration": 11,
    "start_time": "2024-05-20T03:25:47.446Z"
   },
   {
    "duration": 766,
    "start_time": "2024-05-20T03:25:47.460Z"
   },
   {
    "duration": 325,
    "start_time": "2024-05-20T03:25:48.229Z"
   },
   {
    "duration": 480,
    "start_time": "2024-05-20T03:25:48.557Z"
   },
   {
    "duration": 374,
    "start_time": "2024-05-20T03:25:49.043Z"
   },
   {
    "duration": 414,
    "start_time": "2024-05-20T03:25:49.419Z"
   },
   {
    "duration": 264,
    "start_time": "2024-05-20T03:25:49.836Z"
   },
   {
    "duration": 233,
    "start_time": "2024-05-20T03:25:50.102Z"
   },
   {
    "duration": 6,
    "start_time": "2024-05-20T03:25:50.338Z"
   },
   {
    "duration": 18,
    "start_time": "2024-05-20T03:43:59.234Z"
   },
   {
    "duration": 228,
    "start_time": "2024-05-20T03:44:41.114Z"
   },
   {
    "duration": 461,
    "start_time": "2024-05-20T03:45:05.859Z"
   },
   {
    "duration": 415,
    "start_time": "2024-05-20T03:45:10.629Z"
   },
   {
    "duration": 4879,
    "start_time": "2024-05-20T11:35:59.257Z"
   },
   {
    "duration": 31,
    "start_time": "2024-05-20T11:36:04.140Z"
   },
   {
    "duration": 9,
    "start_time": "2024-05-20T11:36:04.174Z"
   },
   {
    "duration": 24,
    "start_time": "2024-05-20T11:36:04.186Z"
   },
   {
    "duration": 19,
    "start_time": "2024-05-20T11:36:04.214Z"
   },
   {
    "duration": 10,
    "start_time": "2024-05-20T11:36:04.236Z"
   },
   {
    "duration": 11,
    "start_time": "2024-05-20T11:36:04.250Z"
   },
   {
    "duration": 55,
    "start_time": "2024-05-20T11:36:04.264Z"
   },
   {
    "duration": 16,
    "start_time": "2024-05-20T11:36:04.323Z"
   },
   {
    "duration": 11,
    "start_time": "2024-05-20T11:36:04.342Z"
   },
   {
    "duration": 828,
    "start_time": "2024-05-20T11:36:04.357Z"
   },
   {
    "duration": 332,
    "start_time": "2024-05-20T11:36:05.188Z"
   },
   {
    "duration": 451,
    "start_time": "2024-05-20T11:36:05.524Z"
   },
   {
    "duration": 381,
    "start_time": "2024-05-20T11:36:05.982Z"
   },
   {
    "duration": 420,
    "start_time": "2024-05-20T11:36:06.366Z"
   },
   {
    "duration": 271,
    "start_time": "2024-05-20T11:36:06.789Z"
   },
   {
    "duration": 225,
    "start_time": "2024-05-20T11:36:07.065Z"
   },
   {
    "duration": 20,
    "start_time": "2024-05-20T11:36:07.293Z"
   },
   {
    "duration": 20,
    "start_time": "2024-05-20T11:36:07.316Z"
   },
   {
    "duration": 404,
    "start_time": "2024-05-20T11:36:07.340Z"
   },
   {
    "duration": 12,
    "start_time": "2024-05-20T11:37:25.979Z"
   },
   {
    "duration": 5,
    "start_time": "2024-05-20T11:38:09.571Z"
   },
   {
    "duration": 3,
    "start_time": "2024-05-20T11:42:00.994Z"
   },
   {
    "duration": 1763,
    "start_time": "2024-05-20T11:44:59.716Z"
   },
   {
    "duration": 434,
    "start_time": "2024-05-20T11:45:19.638Z"
   },
   {
    "duration": 244,
    "start_time": "2024-05-20T11:46:15.633Z"
   },
   {
    "duration": 238,
    "start_time": "2024-05-20T11:46:58.814Z"
   },
   {
    "duration": 233,
    "start_time": "2024-05-20T11:47:11.657Z"
   },
   {
    "duration": 238,
    "start_time": "2024-05-20T11:47:28.056Z"
   },
   {
    "duration": 238,
    "start_time": "2024-05-20T11:53:07.069Z"
   },
   {
    "duration": 900,
    "start_time": "2024-05-20T11:53:32.212Z"
   },
   {
    "duration": 191,
    "start_time": "2024-05-20T11:53:52.058Z"
   },
   {
    "duration": 190,
    "start_time": "2024-05-20T11:54:59.128Z"
   },
   {
    "duration": 195,
    "start_time": "2024-05-20T11:55:18.718Z"
   },
   {
    "duration": 228,
    "start_time": "2024-05-20T11:55:42.601Z"
   },
   {
    "duration": 6,
    "start_time": "2024-05-20T11:55:47.382Z"
   },
   {
    "duration": 442,
    "start_time": "2024-05-20T11:56:46.109Z"
   },
   {
    "duration": 18,
    "start_time": "2024-05-20T12:00:36.175Z"
   },
   {
    "duration": 224,
    "start_time": "2024-05-20T12:01:19.223Z"
   },
   {
    "duration": 304,
    "start_time": "2024-05-20T12:06:26.968Z"
   },
   {
    "duration": 15,
    "start_time": "2024-05-20T12:06:48.015Z"
   },
   {
    "duration": 277,
    "start_time": "2024-05-20T12:07:40.955Z"
   },
   {
    "duration": 279,
    "start_time": "2024-05-20T12:08:00.467Z"
   },
   {
    "duration": 532,
    "start_time": "2024-05-20T12:08:39.397Z"
   },
   {
    "duration": 487,
    "start_time": "2024-05-20T12:09:05.793Z"
   },
   {
    "duration": 472,
    "start_time": "2024-05-20T12:09:38.938Z"
   },
   {
    "duration": 5,
    "start_time": "2024-05-20T12:36:05.004Z"
   },
   {
    "duration": 20,
    "start_time": "2024-05-20T12:36:05.013Z"
   },
   {
    "duration": 8,
    "start_time": "2024-05-20T12:36:05.036Z"
   },
   {
    "duration": 13,
    "start_time": "2024-05-20T12:36:05.047Z"
   },
   {
    "duration": 51,
    "start_time": "2024-05-20T12:36:05.064Z"
   },
   {
    "duration": 12,
    "start_time": "2024-05-20T12:36:05.118Z"
   },
   {
    "duration": 10,
    "start_time": "2024-05-20T12:36:05.132Z"
   },
   {
    "duration": 15,
    "start_time": "2024-05-20T12:36:05.145Z"
   },
   {
    "duration": 61,
    "start_time": "2024-05-20T12:36:05.163Z"
   },
   {
    "duration": 10,
    "start_time": "2024-05-20T12:36:05.227Z"
   },
   {
    "duration": 726,
    "start_time": "2024-05-20T12:36:05.385Z"
   },
   {
    "duration": 324,
    "start_time": "2024-05-20T12:36:06.115Z"
   },
   {
    "duration": 411,
    "start_time": "2024-05-20T12:36:06.442Z"
   },
   {
    "duration": 513,
    "start_time": "2024-05-20T12:36:06.856Z"
   },
   {
    "duration": 464,
    "start_time": "2024-05-20T12:36:07.373Z"
   },
   {
    "duration": 259,
    "start_time": "2024-05-20T12:36:07.840Z"
   },
   {
    "duration": 200,
    "start_time": "2024-05-20T12:36:08.111Z"
   },
   {
    "duration": 6,
    "start_time": "2024-05-20T12:36:08.314Z"
   },
   {
    "duration": 237,
    "start_time": "2024-05-20T12:36:08.324Z"
   },
   {
    "duration": 6,
    "start_time": "2024-05-20T12:36:08.564Z"
   },
   {
    "duration": 542,
    "start_time": "2024-05-20T12:36:08.577Z"
   },
   {
    "duration": 17,
    "start_time": "2024-05-20T12:36:09.123Z"
   },
   {
    "duration": 118,
    "start_time": "2024-05-20T12:36:09.144Z"
   },
   {
    "duration": 0,
    "start_time": "2024-05-20T12:36:09.265Z"
   },
   {
    "duration": 0,
    "start_time": "2024-05-20T12:36:09.267Z"
   },
   {
    "duration": 19,
    "start_time": "2024-05-20T12:36:52.360Z"
   },
   {
    "duration": 11,
    "start_time": "2024-05-20T12:37:25.175Z"
   },
   {
    "duration": 84,
    "start_time": "2024-05-20T12:37:44.233Z"
   },
   {
    "duration": 12,
    "start_time": "2024-05-20T12:38:45.020Z"
   },
   {
    "duration": 476,
    "start_time": "2024-05-20T12:39:01.106Z"
   },
   {
    "duration": 14,
    "start_time": "2024-05-20T12:39:04.843Z"
   },
   {
    "duration": 12,
    "start_time": "2024-05-20T12:39:09.625Z"
   },
   {
    "duration": 33,
    "start_time": "2024-05-20T12:39:18.845Z"
   },
   {
    "duration": 13,
    "start_time": "2024-05-20T12:39:54.488Z"
   },
   {
    "duration": 115,
    "start_time": "2024-05-20T12:39:57.978Z"
   },
   {
    "duration": 20,
    "start_time": "2024-05-20T12:40:11.218Z"
   },
   {
    "duration": 39,
    "start_time": "2024-05-20T12:48:53.373Z"
   }
  ],
  "kernelspec": {
   "display_name": "Python 3 (ipykernel)",
   "language": "python",
   "name": "python3"
  },
  "language_info": {
   "codemirror_mode": {
    "name": "ipython",
    "version": 3
   },
   "file_extension": ".py",
   "mimetype": "text/x-python",
   "name": "python",
   "nbconvert_exporter": "python",
   "pygments_lexer": "ipython3",
   "version": "3.9.19"
  },
  "toc": {
   "base_numbering": 1,
   "nav_menu": {},
   "number_sections": true,
   "sideBar": true,
   "skip_h1_title": true,
   "title_cell": "Table of Contents",
   "title_sidebar": "Contents",
   "toc_cell": false,
   "toc_position": {},
   "toc_section_display": true,
   "toc_window_display": false
  }
 },
 "nbformat": 4,
 "nbformat_minor": 2
}
